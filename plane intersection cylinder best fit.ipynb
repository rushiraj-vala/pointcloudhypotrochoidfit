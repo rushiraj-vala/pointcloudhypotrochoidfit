import numpy as np
import open3d as op3
import matplotlib.pyplot as plt

# Import the data
pcd = op3.io.read_point_cloud("110mm PVC Pipe - front.ply")
points = pcd.points
plt.scatter(points[:,:1],points[:,:2])
# Create a plane to interesect

# Carry out the interseciton

# Isolate the points

# plot the resulting point

